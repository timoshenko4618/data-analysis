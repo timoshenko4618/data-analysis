{
  "nbformat": 4,
  "nbformat_minor": 0,
  "metadata": {
    "colab": {
      "provenance": [],
      "include_colab_link": true
    },
    "kernelspec": {
      "name": "python3",
      "display_name": "Python 3"
    },
    "language_info": {
      "name": "python"
    }
  },
  "cells": [
    {
      "cell_type": "markdown",
      "metadata": {
        "id": "view-in-github",
        "colab_type": "text"
      },
      "source": [
        "<a href=\"https://colab.research.google.com/github/timoshenko4618/data-analysis/blob/main/Basic_Python_notebook.ipynb\" target=\"_parent\"><img src=\"https://colab.research.google.com/assets/colab-badge.svg\" alt=\"Open In Colab\"/></a>"
      ]
    },
    {
      "cell_type": "markdown",
      "source": [
        "\n",
        "\n",
        "## Основы синтаксиса Python на примере логики Telegram бота 👨‍💻\n",
        "\n",
        "### Из чего состоит логика бота:\n",
        "- **Переменные:** без них никуда\n",
        "- **Типы данных:** строки, числа, словарь, cписок\n",
        "- **Циклы:** while для основного цикла игры, for для перебора значений в коллекциях\n",
        "- **Проверка условий:** if/else для проверки правильности ответа\n",
        "- **Стандартная библиотека**: модуль random"
      ],
      "metadata": {
        "id": "bJD3tC6e1EDT"
      }
    },
    {
      "cell_type": "markdown",
      "source": [
        "###Переменные\n",
        "Нужны для сохранения каких-то значений, которые мы будем использовать позже в программе.\n",
        "Для создания новой переменной используется операция присвоения `=`"
      ],
      "metadata": {
        "id": "4l_NPTSY2nww"
      }
    },
    {
      "cell_type": "code",
      "source": [
        "name = 'Ivan'\n",
        "print(name)"
      ],
      "metadata": {
        "colab": {
          "base_uri": "https://localhost:8080/"
        },
        "id": "0bwgTTt35MQJ",
        "outputId": "166d1f98-d8e8-40b6-ac65-67eb1b14ee03"
      },
      "execution_count": null,
      "outputs": [
        {
          "output_type": "stream",
          "name": "stdout",
          "text": [
            "Ivan\n"
          ]
        }
      ]
    },
    {
      "cell_type": "markdown",
      "source": [
        "Значения у переменных можно менять с помощью той же операции `=`"
      ],
      "metadata": {
        "id": "ANr9abC75Ufh"
      }
    },
    {
      "cell_type": "code",
      "source": [
        "print(name)\n",
        "name = 'John'\n",
        "print(name)"
      ],
      "metadata": {
        "colab": {
          "base_uri": "https://localhost:8080/"
        },
        "id": "Je6_Q8ZD5Q1Q",
        "outputId": "f3adfb7a-f718-4bfc-bac9-6fe3bae86a78"
      },
      "execution_count": null,
      "outputs": [
        {
          "output_type": "stream",
          "name": "stdout",
          "text": [
            "Ivan\n",
            "John\n"
          ]
        }
      ]
    },
    {
      "cell_type": "markdown",
      "source": [
        "В правой части присвоения может быть не только значение переменной, но и другая переменная или выражение."
      ],
      "metadata": {
        "id": "YEgnScqf5mOb"
      }
    },
    {
      "cell_type": "code",
      "source": [
        "name = 'John'\n",
        "first_name = name\n",
        "\n",
        "print(name)\n",
        "print(first_name)"
      ],
      "metadata": {
        "colab": {
          "base_uri": "https://localhost:8080/"
        },
        "id": "KkK8qbrU5wYQ",
        "outputId": "9451abcd-bd20-4206-e88a-823815dbd1f6"
      },
      "execution_count": null,
      "outputs": [
        {
          "output_type": "stream",
          "name": "stdout",
          "text": [
            "John\n",
            "John\n"
          ]
        }
      ]
    },
    {
      "cell_type": "markdown",
      "source": [
        "Больше про переменные на Хекслете:\n",
        "- [Что такое и зачем нужны](https://ru.hexlet.io/courses/python-basics/lessons/variables/theory_unit)\n",
        "- [Как использовать в выражениях](https://ru.hexlet.io/courses/python-basics/lessons/variables-expression/theory_unit)\n",
        "- [Про правила именования переменных](https://ru.hexlet.io/courses/python-basics/lessons/naming/theory_unit)"
      ],
      "metadata": {
        "id": "awfkn8iKIl3G"
      }
    },
    {
      "cell_type": "markdown",
      "source": [
        "###Типы данных\n",
        "\n",
        "В переменных мы можем хранить не только текст, но и другие **типы данных**. Например, целые числа, дроби."
      ],
      "metadata": {
        "id": "mwZ4M1Bd8ECo"
      }
    },
    {
      "cell_type": "code",
      "source": [
        "string = 'text'"
      ],
      "metadata": {
        "id": "SpykymMG8MPX"
      },
      "execution_count": null,
      "outputs": []
    },
    {
      "cell_type": "code",
      "source": [
        "number = 123"
      ],
      "metadata": {
        "id": "yDXa8Hms8e4z"
      },
      "execution_count": null,
      "outputs": []
    },
    {
      "cell_type": "code",
      "source": [
        "float_number = 123.123"
      ],
      "metadata": {
        "id": "_HfXZZcO8iCV"
      },
      "execution_count": null,
      "outputs": []
    },
    {
      "cell_type": "markdown",
      "source": [
        "Разные типы данных поддерживают разные операции, иногда они пересекаются. Например, и строки, и числа поддерживюат операцию `+`. Строки в этом случае соединятся, а числа — сложатся."
      ],
      "metadata": {
        "id": "FueEnhr86X3t"
      }
    },
    {
      "cell_type": "code",
      "source": [
        "first_name = 'John'\n",
        "last_name = 'Doe'\n",
        "full_name = first_name + ' ' + last_name\n",
        "print(full_name)\n",
        "\n",
        "\n",
        "x = 10\n",
        "y = 20\n",
        "z = x + y\n",
        "print(z)"
      ],
      "metadata": {
        "colab": {
          "base_uri": "https://localhost:8080/"
        },
        "id": "qFDBB1HZ6r2i",
        "outputId": "8d5ecafd-971f-41eb-ef1e-bb14f7cfbe1f"
      },
      "execution_count": null,
      "outputs": [
        {
          "output_type": "stream",
          "name": "stdout",
          "text": [
            "John Doe\n",
            "30\n"
          ]
        }
      ]
    },
    {
      "cell_type": "markdown",
      "source": [
        "Особенными типами данных являются коллекции. В отличие от обычных типов, коллекции позволяют хранить не одно значение, а несколько. Для нашего проекта нам понадобятся 2 коллекции: список и словарь."
      ],
      "metadata": {
        "id": "lMOfqUPh6-Hj"
      }
    },
    {
      "cell_type": "code",
      "source": [
        "numbers = [1, 2, 3] # это список, он позволяет хранить сразу несколько чисел\n",
        "\n",
        "# К каждому элементу можно получить доступ по его позиции (индексу).\n",
        "# При этом индексы начинаются с 0, а не с 1.\n",
        "print(numbers[0])\n",
        "print(numbers[1])\n",
        "print(numbers[2])"
      ],
      "metadata": {
        "colab": {
          "base_uri": "https://localhost:8080/"
        },
        "id": "zhE32Md27Kcv",
        "outputId": "d5c36509-29c9-488f-d9ce-320380dcf732"
      },
      "execution_count": null,
      "outputs": [
        {
          "output_type": "stream",
          "name": "stdout",
          "text": [
            "1\n",
            "2\n",
            "3\n"
          ]
        }
      ]
    },
    {
      "cell_type": "code",
      "source": [
        "words = { # это словарь, он позволяет хранить пары ключ → значение. Как словарь для переводов, где для каждого слова в соответствие ставится перевод.\n",
        "    \"hello\": \"привет\",\n",
        "    \"bye\": \"пока\"\n",
        "}\n",
        "\n",
        "# Значения из словаря так же получаются через квадратные скобки, но вместо индекса мы указываем ключ.\n",
        "print(words[\"hello\"])\n",
        "print(words[\"bye\"])"
      ],
      "metadata": {
        "colab": {
          "base_uri": "https://localhost:8080/"
        },
        "id": "5i0QbY027fKv",
        "outputId": "c3325167-c26f-46f2-f131-b440dbcee99f"
      },
      "execution_count": null,
      "outputs": [
        {
          "output_type": "stream",
          "name": "stdout",
          "text": [
            "привет\n",
            "пока\n"
          ]
        }
      ]
    },
    {
      "cell_type": "markdown",
      "source": [
        "Больше про типы данных на Хекслете:\n",
        "- [Что такое и какие бывают](https://ru.hexlet.io/courses/python-basics/lessons/data-types/theory_unit)\n",
        "- [Неизменяемость и примитивные типы](https://ru.hexlet.io/courses/python-basics/lessons/immutability-of-primitive-types/theory_unit)"
      ],
      "metadata": {
        "id": "kRPix6V0LU94"
      }
    },
    {
      "cell_type": "markdown",
      "source": [
        "# Условия"
      ],
      "metadata": {
        "id": "JEahoyxq-vej"
      }
    },
    {
      "cell_type": "markdown",
      "source": [
        "Конструкция if/else позволяют изменять ход выполнения программы в зависимости от определенных условий. Типые проверки: `==` (равно), `>` (больше), `<` (меньше), `!=` (не равно) и др."
      ],
      "metadata": {
        "id": "Jm9ar2WG-19B"
      }
    },
    {
      "cell_type": "code",
      "source": [
        "name = \"John\"\n",
        "if name == \"John\":\n",
        "  print('hi, John!')\n",
        "else:\n",
        "  print('who are you?')\n",
        "\n",
        "\n",
        "name = 'Ivan'\n",
        "if name == \"John\":\n",
        "  print('hi, John!')\n",
        "else:\n",
        "  print('who are you?')"
      ],
      "metadata": {
        "colab": {
          "base_uri": "https://localhost:8080/"
        },
        "id": "tpB8oDcG-1RH",
        "outputId": "b9b982fe-8a57-4eb5-c7b0-2d218c4e0562"
      },
      "execution_count": null,
      "outputs": [
        {
          "output_type": "stream",
          "name": "stdout",
          "text": [
            "hi, John!\n",
            "who are you?\n"
          ]
        }
      ]
    },
    {
      "cell_type": "markdown",
      "source": [
        "Больше про условные конструкции на Хекслете:\n",
        "- [Что такое и какие бывают](https://ru.hexlet.io/courses/python-basics/lessons/conditionals/theory_unit)"
      ],
      "metadata": {
        "id": "DDCkEv_oLxsY"
      }
    },
    {
      "cell_type": "markdown",
      "source": [
        "# Циклы"
      ],
      "metadata": {
        "id": "fgBSm74O_h7Y"
      }
    },
    {
      "cell_type": "markdown",
      "source": [
        "Цикл позволяет выплонять какой-то кусок кода несколько раз. В Python есть 2 вида циклов: while и for.\n",
        "\n",
        "while похож на обычный if, только он выполняет код не 1 раз, а много. До тех пор, пока условие выполняется."
      ],
      "metadata": {
        "id": "TDe1OEcX_nI1"
      }
    },
    {
      "cell_type": "code",
      "source": [
        "a = 1\n",
        "while a < 5:\n",
        "    print(a)\n",
        "    a = a + 1"
      ],
      "metadata": {
        "colab": {
          "base_uri": "https://localhost:8080/"
        },
        "id": "WBtiEMXs_m81",
        "outputId": "145273e1-3d66-4315-9c2d-5881ff1c7d62"
      },
      "execution_count": null,
      "outputs": [
        {
          "output_type": "stream",
          "name": "stdout",
          "text": [
            "1\n",
            "2\n",
            "3\n",
            "4\n"
          ]
        }
      ]
    },
    {
      "cell_type": "markdown",
      "source": [
        "Цикл for удобен для обхода значений коллекций. Например, списка."
      ],
      "metadata": {
        "id": "F_J_35LtAKIm"
      }
    },
    {
      "cell_type": "code",
      "source": [
        "numbers = [1, 2, 3, 4, 5]\n",
        "\n",
        "for number in numbers:\n",
        "  # number — произвольное название, может быть любым\n",
        "  # в эту переменную автоматически будет попадать очередной элемент коллекции\n",
        "  print(number)"
      ],
      "metadata": {
        "colab": {
          "base_uri": "https://localhost:8080/"
        },
        "id": "xjCgIYz6AIwL",
        "outputId": "db5feb39-c17c-4743-ee6b-ffaba5329d6b"
      },
      "execution_count": null,
      "outputs": [
        {
          "output_type": "stream",
          "name": "stdout",
          "text": [
            "1\n",
            "2\n",
            "3\n",
            "4\n",
            "5\n"
          ]
        }
      ]
    },
    {
      "cell_type": "markdown",
      "source": [
        "Больше про циклы на Хекслете:\n",
        "- [Цикл while](https://ru.hexlet.io/courses/python-basics/lessons/while/theory_unit)\n",
        "- [Цикл for](https://ru.hexlet.io/courses/python-basics/lessons/for/theory_unit)"
      ],
      "metadata": {
        "id": "_JVYjP-wMSXi"
      }
    },
    {
      "cell_type": "markdown",
      "source": [
        "# Модуль random\n",
        "\n",
        "Предоставляет разные операции для работы со случайными значениями. Нам потребуется 2 функции: choice и sample."
      ],
      "metadata": {
        "id": "e9wHBhHnAbSm"
      }
    },
    {
      "cell_type": "code",
      "source": [
        "import random\n",
        "\n",
        "numbers = [1, 2, 3, 4, 5]\n",
        "random_number = random.choice(numbers) # выбирает случайный элемент коллекции\n",
        "print(random_number)\n",
        "\n",
        "random_numbers = random.sample(numbers, 2) # выбирает N случайных элементов из коллекции, возвращает новую коллекцию\n",
        "print(random_numbers)"
      ],
      "metadata": {
        "colab": {
          "base_uri": "https://localhost:8080/"
        },
        "id": "YHeQequKAl41",
        "outputId": "a163b272-e81b-4041-d7ba-b56d339b279b"
      },
      "execution_count": null,
      "outputs": [
        {
          "output_type": "stream",
          "name": "stdout",
          "text": [
            "2\n",
            "[2, 1]\n"
          ]
        }
      ]
    },
    {
      "cell_type": "markdown",
      "source": [
        "Больше использовании модулей стандартных библиотек:\n",
        "- [Модуль random](https://ru.hexlet.io/courses/python-basics/lessons/module-random/theory_unit)"
      ],
      "metadata": {
        "id": "GfySKWt2Mt3M"
      }
    },
    {
      "cell_type": "markdown",
      "source": [
        "###Послесловие 💕\n",
        "В рамках двухдневного практикума, с нулевым бэкграундом достаточно сложно усвоить базовую информацию о синтасисе языка и основных конструкциях, но зато можно попрактиковаться и проверить свой интерес к профессии разработчика\n",
        "\n",
        "Если вы хотите продолжить обучение в более системном формате, сделать это можно в рамках программы [«Python-разработчик на Хекслете»](https://ru.hexlet.io/programs/python).\n",
        "\n",
        "Основы языка, в которые входит 55 практических упражнений на тренажере, доступны абсолютно бесплатно [в курсе «Основы Python»](https://ru.hexlet.io/courses/python-basics)!\n",
        "\n",
        "![Снимок экрана 2022-09-28 155059.png](data:image/png;base64,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)"
      ],
      "metadata": {
        "id": "0UqXL0s6Iw6c"
      }
    }
  ]
}